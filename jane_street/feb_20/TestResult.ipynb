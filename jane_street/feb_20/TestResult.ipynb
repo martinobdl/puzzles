{
 "cells": [
  {
   "cell_type": "code",
   "execution_count": 1,
   "metadata": {},
   "outputs": [],
   "source": [
    "import matplotlib.pyplot as plt\n",
    "import numpy as np\n",
    "from tqdm import tqdm_notebook as tqdm\n",
    "import time"
   ]
  },
  {
   "cell_type": "code",
   "execution_count": 2,
   "metadata": {},
   "outputs": [],
   "source": [
    "def is_one(x,y):\n",
    "    \"\"\"\n",
    "    check if the the pair x,y is in one of the 4 \n",
    "    adjacient grids of the central square\n",
    "    \"\"\"\n",
    "    if (x>2 and x<3) and (y>1 and y<2):\n",
    "        return True\n",
    "    if (x>0 and x<1) and (y>1 and y<2):\n",
    "        return True\n",
    "    if (x>1 and x<2) and (y>0 and y<1):\n",
    "        return True\n",
    "    if (x>1 and x<2) and (y>2 and y<3):\n",
    "        return True\n",
    "    return False\n",
    "\n",
    "\n",
    "def f(D):\n",
    "    \"\"\"\n",
    "    MC of the probability of having just one \n",
    "    intersection between the grid and the segment of length D\n",
    "    \"\"\"\n",
    "    A=[]\n",
    "    for i in range(10000):\n",
    "        x0 = np.random.rand()+1\n",
    "        y0 = np.random.rand()+1\n",
    "        theta = np.random.rand()*np.pi*2\n",
    "        x1 = x0+D*np.cos(theta)\n",
    "        y1 = y0+D*np.sin(theta)\n",
    "        A.append(is_one(x1,y1))\n",
    "    return sum(A)/len(A)"
   ]
  },
  {
   "cell_type": "code",
   "execution_count": 3,
   "metadata": {},
   "outputs": [
    {
     "data": {
      "application/vnd.jupyter.widget-view+json": {
       "model_id": "61a959f363fb46d1bd6efa4028fb455c",
       "version_major": 2,
       "version_minor": 0
      },
      "text/plain": [
       "HBox(children=(IntProgress(value=0), HTML(value='')))"
      ]
     },
     "metadata": {},
     "output_type": "display_data"
    },
    {
     "name": "stdout",
     "output_type": "stream",
     "text": [
      "\n"
     ]
    }
   ],
   "source": [
    "R = []\n",
    "d = np.linspace(0.,1,100)\n",
    "for D in tqdm(d):\n",
    "    R.append(f(D))"
   ]
  },
  {
   "cell_type": "code",
   "execution_count": 5,
   "metadata": {},
   "outputs": [
    {
     "data": {
      "image/png": "[encoded data removed]",
      "text/plain": [
       "<Figure size 432x288 with 1 Axes>"
      ]
     },
     "metadata": {
      "needs_background": "light"
     },
     "output_type": "display_data"
    }
   ],
   "source": [
    "plt.plot(d,np.array(R),'*-')\n",
    "plt.plot(d,(4*d-2*d**2)/np.pi)\n",
    "plt.legend(['MC','pred'])\n",
    "plt.hlines(2/np.pi,0,1,'r')\n",
    "plt.grid(1)"
   ]
  },
  {
   "cell_type": "code",
   "execution_count": null,
   "metadata": {},
   "outputs": [],
   "source": []
  }
 ],
 "metadata": {
  "kernelspec": {
   "display_name": "Python 3",
   "language": "python",
   "name": "python3"
  },
  "language_info": {
   "codemirror_mode": {
    "name": "ipython",
    "version": 3
   },
   "file_extension": ".py",
   "mimetype": "text/x-python",
   "name": "python",
   "nbconvert_exporter": "python",
   "pygments_lexer": "ipython3",
   "version": "3.7.6"
  }
 },
 "nbformat": 4,
 "nbformat_minor": 2
}
