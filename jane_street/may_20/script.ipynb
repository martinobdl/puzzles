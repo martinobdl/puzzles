{
 "cells": [
  {
   "cell_type": "code",
   "execution_count": 1,
   "metadata": {},
   "outputs": [],
   "source": [
    "import numpy as np"
   ]
  },
  {
   "cell_type": "code",
   "execution_count": 2,
   "metadata": {},
   "outputs": [],
   "source": [
    "table = \"\"\"1\t2\t3\t4\t5\t6\t7\t8\t9\t10\t11\t12\t13\t14\t15\t16\t17\t18\n",
    "2\t3\t4\t5\t6\t7\t8\t9\t10\t11\t12\t13\t14\t15\t16\t17\t18\t19\n",
    "2\t4\t5\t6\t7\t8\t9\t10\t11\t12\t13\t14\t15\t16\t17\t18\t19\t20\n",
    "4\t6\t2\t7\t8\t9\t10\t11\t12\t13\t14\t15\t16\t17\t18\t19\t20\t21\n",
    "2\t8\t6\t9\t4\t10\t11\t12\t13\t14\t15\t16\t17\t18\t19\t20\t21\t22\n",
    "9\t10\t6\t11\t8\t12\t2\t13\t14\t15\t16\t17\t18\t19\t20\t21\t22\t23\n",
    "8\t2\t11\t13\t6\t14\t10\t15\t9\t16\t17\t18\t19\t20\t21\t22\t23\t24\n",
    "14\t15\t6\t9\t13\t16\t11\t17\t2\t18\t8\t19\t20\t21\t22\t23\t24\t25\n",
    "11\t2\t16\t18\t13\t8\t9\t19\t6\t20\t15\t21\t14\t22\t23\t24\t25\t26\"\"\"\n",
    "table = np.array(list(map(lambda x: x.split(\",\"),table.replace(\"\t\",\",\").split(\"\\n\"))))\n",
    "f = np.vectorize(int)\n",
    "table=f(table)"
   ]
  },
  {
   "cell_type": "code",
   "execution_count": 27,
   "metadata": {
    "scrolled": true
   },
   "outputs": [],
   "source": [
    "max_col = 10000\n",
    "\n",
    "def extend(row):\n",
    "    return list(row)+[k for k in range(row[-1]+1,max_col)]\n",
    "\n",
    "def add_row(prev_row, index_row):\n",
    "    \n",
    "    prev = extend(prev_row)\n",
    "    new_row = []\n",
    "    \n",
    "    count = 1\n",
    "    for i in range(index_row):\n",
    "        new_row.append(prev[index_row-count])\n",
    "        new_row.append(prev[index_row+count])\n",
    "        count += 1\n",
    "        \n",
    "    return extend(new_row)\n",
    "\n",
    "def test_row(index_row):\n",
    "    row = extend(table[index_row])\n",
    "    new_ = add_row(row,index_row=index_row)\n",
    "    true_ = extend(table[index_row+1])\n",
    "    \n",
    "    assert new_ == true_\n",
    "\n",
    "for i in range(1,5):\n",
    "    test_row(i)"
   ]
  },
  {
   "cell_type": "code",
   "execution_count": 28,
   "metadata": {},
   "outputs": [
    {
     "name": "stdout",
     "output_type": "stream",
     "text": [
      "416\n"
     ]
    }
   ],
   "source": [
    "row = table[8]\n",
    "index = 8\n",
    "while row[index]!= 11:\n",
    "    row = add_row(row, index)\n",
    "    index += 1\n",
    "print(index+1)"
   ]
  },
  {
   "cell_type": "code",
   "execution_count": null,
   "metadata": {},
   "outputs": [],
   "source": []
  }
 ],
 "metadata": {
  "kernelspec": {
   "display_name": "Python 3",
   "language": "python",
   "name": "python3"
  },
  "language_info": {
   "codemirror_mode": {
    "name": "ipython",
    "version": 3
   },
   "file_extension": ".py",
   "mimetype": "text/x-python",
   "name": "python",
   "nbconvert_exporter": "python",
   "pygments_lexer": "ipython3",
   "version": "3.7.6"
  }
 },
 "nbformat": 4,
 "nbformat_minor": 2
}
